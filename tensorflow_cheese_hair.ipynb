{
  "nbformat": 4,
  "nbformat_minor": 0,
  "metadata": {
    "colab": {
      "name": "tensorflow cheese hair",
      "provenance": [],
      "authorship_tag": "ABX9TyMMz0eVCzA8Ow5AtHXRD1wp",
      "include_colab_link": true
    },
    "kernelspec": {
      "name": "python3",
      "display_name": "Python 3"
    },
    "language_info": {
      "name": "python"
    }
  },
  "cells": [
    {
      "cell_type": "markdown",
      "metadata": {
        "id": "view-in-github",
        "colab_type": "text"
      },
      "source": [
        "<a href=\"https://colab.research.google.com/github/M-hg10/Kapsamli_Derin_Ogrenme_Rehberi/blob/master/tensorflow_cheese_hair.ipynb\" target=\"_parent\"><img src=\"https://colab.research.google.com/assets/colab-badge.svg\" alt=\"Open In Colab\"/></a>"
      ]
    },
    {
      "cell_type": "markdown",
      "metadata": {
        "id": "2AbjcwNrGora"
      },
      "source": [
        "Model yükleme\n"
      ]
    },
    {
      "cell_type": "code",
      "metadata": {
        "id": "Rnn_uGlMGtBS"
      },
      "source": [
        ""
      ],
      "execution_count": null,
      "outputs": []
    }
  ]
}